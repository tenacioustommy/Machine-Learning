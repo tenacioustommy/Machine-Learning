{
 "cells": [
  {
   "cell_type": "code",
   "execution_count": 2,
   "metadata": {},
   "outputs": [],
   "source": [
    "import math\n",
    "import collections\n",
    "import torch\n",
    "from torch import nn\n",
    "from torch.nn import functional as F\n",
    "import matplotlib.pyplot as plt"
   ]
  },
  {
   "cell_type": "code",
   "execution_count": 3,
   "metadata": {},
   "outputs": [],
   "source": [
    "class Encoder(nn.Module):\n",
    "    def __init__(self,**kwargs) -> None:\n",
    "        super(Encoder,self).__init__(**kwargs)\n",
    "    def forward(self,X,*args):\n",
    "        raise NotImplementedError"
   ]
  },
  {
   "cell_type": "code",
   "execution_count": 4,
   "metadata": {},
   "outputs": [],
   "source": [
    "class Decoder(nn.Module):\n",
    "    def __init__(self,**kwargs) -> None:\n",
    "        super(Decoder,self).__init__(**kwargs)\n",
    "    def init_state(self,enc_outputs,*args):\n",
    "        raise NotImplementedError\n",
    "    def forward(self,X,state):\n",
    "        raise NotImplementedError"
   ]
  },
  {
   "cell_type": "code",
   "execution_count": 5,
   "metadata": {},
   "outputs": [],
   "source": [
    "class EncoderDecoder(nn.Module):\n",
    "    def __init__(self,encoder,decoder,**kwargs) -> None:\n",
    "        super(EncoderDecoder,self).__init__(**kwargs)\n",
    "        self.encoder=encoder\n",
    "        self.decoder=decoder\n",
    "    def forward(self,enc_X,dec_X,*args):\n",
    "        enc_outputs=self.encoder(enc_X,*args)\n",
    "        dec_state=self.decoder.init_state(enc_outputs,*args)\n",
    "        return self.decoder(dec_X,dec_state)"
   ]
  },
  {
   "cell_type": "code",
   "execution_count": null,
   "metadata": {},
   "outputs": [],
   "source": [
    "def masked_softmax(X,valid_lens):\n",
    "    if valid_lens is None:\n",
    "        return nn.functional.softmax(X,dim=-1)\n",
    "    else:\n",
    "        shape=X.shape\n",
    "        if valid_lens.dim()==1:\n",
    "            valid_lens=torch.repeat_interleave(valid_lens,shape[-1])\n",
    "        else:\n",
    "            valid_lens=valid_lens.reshape(-1)\n",
    "        return nn.functional.softmax()\n",
    "        "
   ]
  },
  {
   "cell_type": "code",
   "execution_count": null,
   "metadata": {},
   "outputs": [],
   "source": [
    "class Additiveattention(nn.Module):\n",
    "    def __init__(self,key_size,query_size,num_hiddens,dropout,**kwargs) -> None:\n",
    "        super(Additiveattention,self).__init__(**kwargs)\n",
    "        self.W_k=nn.Linear(key_size,num_hiddens,bias=False)\n",
    "        self.W_q=nn.Linear(query_size,num_hiddens,bias=False)\n",
    "        self.W_v=nn.Linear(num_hiddens,1,bias=False)\n",
    "        self.dropout=nn.Dropout(dropout)\n",
    "    def forward(self,queries,keys,values,valid_lens):\n",
    "        queries,keys=self.W_q(queries),self.W_k(keys)\n",
    "        features=queries.unsqueeze(2)+keys.unsqueeze(1)\n",
    "        features=torch.tanh(features)\n",
    "        scores=self.W_v(features).squeeze(-1)\n",
    "        "
   ]
  },
  {
   "cell_type": "code",
   "execution_count": null,
   "metadata": {},
   "outputs": [],
   "source": [
    "class Attentiondecode(Decoder):\n",
    "    def __init__(self, **kwargs) -> None:\n",
    "        super(Attentiondecode,self).__init__(**kwargs)\n",
    "    "
   ]
  },
  {
   "cell_type": "code",
   "execution_count": null,
   "metadata": {},
   "outputs": [],
   "source": [
    "class Seq2seqattentiondecoder(Attentiondecode):\n",
    "   def __init__(self,vocab_size,embed_size,num_hiddens,num_layer,dropout=0,**kwargs) -> None:\n",
    "        super(Seq2seqattentiondecoder,self).__init__(**kwargs)\n",
    "        self.embedding=nn.Embedding(vocab_size,embed_size)\n",
    "        self.rnn=nn.GRU(embed_size, num_hiddens,num_layer,dropout=dropout)\n",
    "        self.attention\n",
    "       "
   ]
  },
  {
   "cell_type": "code",
   "execution_count": 7,
   "metadata": {},
   "outputs": [],
   "source": [
    "class Seq2seqencoder(Encoder):\n",
    "    def __init__(self,vocab_size,embed_size,num_hiddens,num_layer,dropout=0,**kwargs) -> None:\n",
    "        super(Seq2seqencoder,self).__init__(**kwargs)\n",
    "        self.embedding=nn.Embedding(vocab_size,embed_size)\n",
    "        self.rnn=nn.GRU(embed_size, num_hiddens,num_layer,dropout=dropout)\n",
    "    def forward(self,X,*args):\n",
    "        X=self.embedding(X)\n",
    "        X=X.permute(1,0,2)\n",
    "        output,state=self.rnn(X)\n",
    "        return output,state"
   ]
  },
  {
   "cell_type": "code",
   "execution_count": 9,
   "metadata": {},
   "outputs": [
    {
     "data": {
      "text/plain": [
       "torch.Size([7, 4, 16])"
      ]
     },
     "execution_count": 9,
     "metadata": {},
     "output_type": "execute_result"
    }
   ],
   "source": [
    "encoder=Seq2seqencoder(vocab_size=10,embed_size=8,num_hiddens=16,num_layer=2)\n",
    "encoder.eval()\n",
    "X=torch.zeros((4,7),dtype=torch.long)\n",
    "output,state=encoder(X)\n",
    "output.shape\n"
   ]
  },
  {
   "cell_type": "code",
   "execution_count": 10,
   "metadata": {},
   "outputs": [
    {
     "data": {
      "text/plain": [
       "torch.Size([2, 4, 16])"
      ]
     },
     "execution_count": 10,
     "metadata": {},
     "output_type": "execute_result"
    }
   ],
   "source": [
    "state.shape"
   ]
  },
  {
   "cell_type": "code",
   "execution_count": 11,
   "metadata": {},
   "outputs": [],
   "source": [
    "class Seq2seqdecoder(Decoder):\n",
    "    def __init__(self,vocab_size,embed_size,num_hiddens,num_layer,dropout=0,**kwargs) -> None:\n",
    "        super(Seq2seqdecoder,self).__init__(**kwargs)\n",
    "        self.embedding=nn.Embedding(vocab_size,embed_size)\n",
    "        self.rnn=nn.GRU(embed_size+num_hiddens, num_hiddens,num_layer,dropout=dropout)\n",
    "        self.dense=nn.Linear(num_hiddens,vocab_size)\n",
    "    def init_state(self, enc_outputs, *args):\n",
    "        return enc_outputs[1]\n",
    "    def forward(self,X,state):\n",
    "        X=self.embedding(X).permute(1,0,2)\n",
    "        # 最浓缩的信息在最上面一层最后一个时间的输出\n",
    "        context=state[-1].repeat(X.shape[0],1,1)\n",
    "        X_and_context=torch.cat((X,context),2)\n",
    "        output,state=self.rnn(X_and_context,state)\n",
    "        output=self.dense (output ).permute(1,0,2)\n",
    "        return output,state\n"
   ]
  },
  {
   "cell_type": "code",
   "execution_count": 12,
   "metadata": {},
   "outputs": [
    {
     "data": {
      "text/plain": [
       "(torch.Size([4, 7, 10]), torch.Size([2, 4, 16]))"
      ]
     },
     "execution_count": 12,
     "metadata": {},
     "output_type": "execute_result"
    }
   ],
   "source": [
    "decoder=Seq2seqdecoder(vocab_size=10,embed_size=8,num_hiddens=16,num_layer=2)\n",
    "decoder.eval()\n",
    "\n",
    "state=decoder.init_state(encoder(X))\n",
    "output,state=decoder(X,state)\n",
    "output.shape,state.shape"
   ]
  },
  {
   "cell_type": "code",
   "execution_count": 13,
   "metadata": {},
   "outputs": [],
   "source": [
    "def sequence_mask(X,valid_len,value=0):\n",
    "    maxlen=X.size(1)\n",
    "    mask=torch.arange((maxlen),dtype=torch.float32,device=X.device)[None,:]<valid_len[:,None]\n",
    "    X[~mask]=value\n",
    "    return X"
   ]
  },
  {
   "cell_type": "code",
   "execution_count": 14,
   "metadata": {},
   "outputs": [],
   "source": [
    "class MasksoftmaxCELoss(nn.CrossEntropyLoss):\n",
    "    def forward(self,pred,label,valid_len):\n",
    "        weights=torch.ones_like(label)\n",
    "        weights=sequence_mask(weights,valid_len)\n",
    "        self.reduction='none'\n",
    "        unweighted_loss=super().forward(pred.permute(0,2,1),label)\n",
    "        weighted_loss=(unweighted_loss*weights).mean(dim=1)\n",
    "        return weighted_loss\n"
   ]
  },
  {
   "cell_type": "code",
   "execution_count": null,
   "metadata": {},
   "outputs": [],
   "source": []
  }
 ],
 "metadata": {
  "kernelspec": {
   "display_name": "base",
   "language": "python",
   "name": "python3"
  },
  "language_info": {
   "codemirror_mode": {
    "name": "ipython",
    "version": 3
   },
   "file_extension": ".py",
   "mimetype": "text/x-python",
   "name": "python",
   "nbconvert_exporter": "python",
   "pygments_lexer": "ipython3",
   "version": "3.9.13"
  },
  "orig_nbformat": 4,
  "vscode": {
   "interpreter": {
    "hash": "b09ec625f77bf4fd762565a912b97636504ad6ec901eb2d0f4cf5a7de23e1ee5"
   }
  }
 },
 "nbformat": 4,
 "nbformat_minor": 2
}
