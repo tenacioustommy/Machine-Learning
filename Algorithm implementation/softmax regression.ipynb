{
 "cells": [
  {
   "cell_type": "code",
   "execution_count": 2,
   "metadata": {},
   "outputs": [],
   "source": [
    "import torch\n",
    "import torchvision \n",
    "from torch.utils import data\n",
    "from torchvision import transforms\n",
    "import matplotlib.pyplot as plt\n",
    "from IPython import display"
   ]
  },
  {
   "cell_type": "code",
   "execution_count": 3,
   "metadata": {},
   "outputs": [],
   "source": [
    "def load_data_mnist(batch_size):\n",
    "    trans=[transforms.ToTensor()]\n",
    "    trans=transforms.Compose(trans)\n",
    "    mnist_train=torchvision.datasets.FashionMNIST(root='./data',train=True,transform=trans,download=True)\n",
    "    mnist_test=torchvision.datasets.FashionMNIST(root='./data',train=False,transform=trans,download=True)\n",
    "    return (data.DataLoader(mnist_train,batch_size,shuffle=True,num_workers=4),\n",
    "            data.DataLoader(mnist_test,batch_size,shuffle=True,num_workers=4))\n"
   ]
  },
  {
   "cell_type": "code",
   "execution_count": 4,
   "metadata": {},
   "outputs": [],
   "source": [
    "batch_size=256\n",
    "train_iter,test_iter=load_data_mnist(batch_size)\n",
    "num_input=784\n",
    "num_output=10\n",
    "W=torch.normal(0,0.01,size=(num_input,num_output),requires_grad=True)\n",
    "b=torch.zeros(num_output,requires_grad=True)\n"
   ]
  },
  {
   "cell_type": "code",
   "execution_count": 5,
   "metadata": {},
   "outputs": [],
   "source": [
    "def softmax(X):\n",
    "    X_exp=torch.exp(X)\n",
    "    partition=X_exp.sum(1,keepdim=True)\n",
    "    return X_exp/partition"
   ]
  },
  {
   "cell_type": "markdown",
   "metadata": {},
   "source": []
  },
  {
   "cell_type": "code",
   "execution_count": 6,
   "metadata": {},
   "outputs": [
    {
     "data": {
      "text/plain": [
       "(tensor([[0.0595, 0.1140, 0.4851, 0.2719, 0.0694],\n",
       "         [0.1182, 0.1216, 0.1178, 0.1074, 0.5350]]),\n",
       " tensor([1.0000, 1.0000]))"
      ]
     },
     "execution_count": 6,
     "metadata": {},
     "output_type": "execute_result"
    }
   ],
   "source": [
    "X=torch.normal(0,1,(2,5))\n",
    "X_prob=softmax(X)\n",
    "X_prob,X_prob.sum(1)"
   ]
  },
  {
   "cell_type": "code",
   "execution_count": 7,
   "metadata": {},
   "outputs": [],
   "source": [
    "def net(X):\n",
    "    return softmax(torch.matmul(X.reshape((-1,W.shape[0])),W)+b)"
   ]
  },
  {
   "cell_type": "code",
   "execution_count": 8,
   "metadata": {},
   "outputs": [],
   "source": [
    "def cross_entropy(y_hat,y):\n",
    "    return -torch.log(y_hat[range(len(y_hat)),y])\n"
   ]
  },
  {
   "cell_type": "code",
   "execution_count": 9,
   "metadata": {},
   "outputs": [],
   "source": [
    "y_hat=torch.tensor([[0.1,0.2,0.7],[0.2,0.4,1]])\n",
    "y=torch.tensor([1,1])\n",
    "cross_entropy(y_hat,y)\n",
    "import utils\n",
    "from torch import nn"
   ]
  },
  {
   "cell_type": "code",
   "execution_count": 10,
   "metadata": {},
   "outputs": [
    {
     "data": {
      "text/plain": [
       "0.0"
      ]
     },
     "execution_count": 10,
     "metadata": {},
     "output_type": "execute_result"
    }
   ],
   "source": [
    "utils.accuracy(y_hat,y)/len(y)"
   ]
  },
  {
   "cell_type": "code",
   "execution_count": 11,
   "metadata": {},
   "outputs": [
    {
     "name": "stdout",
     "output_type": "stream",
     "text": [
      "training on cuda:0\n",
      "loss 0.656, train acc 0.795, test acc 0.829\n",
      "loss 0.508, train acc 0.833, test acc 0.797\n",
      "loss 0.497, train acc 0.837, test acc 0.829\n",
      "loss 0.482, train acc 0.842, test acc 0.828\n",
      "loss 0.519, train acc 0.837, test acc 0.819\n",
      "loss 0.503, train acc 0.839, test acc 0.794\n",
      "loss 0.518, train acc 0.839, test acc 0.835\n",
      "loss 0.487, train acc 0.844, test acc 0.824\n",
      "loss 0.467, train acc 0.848, test acc 0.816\n",
      "loss 0.508, train acc 0.841, test acc 0.829\n",
      "82457.8 examples/sec on cuda:0\n"
     ]
    }
   ],
   "source": [
    "net = nn.Sequential(nn.Flatten(),nn.Linear(784,10))\n",
    "lr,epochs,batch_size=0.03,10,128\n",
    "utils.train_ch6(net,train_iter,test_iter,epochs,lr,utils.try_gpu())"
   ]
  }
 ],
 "metadata": {
  "kernelspec": {
   "display_name": "base",
   "language": "python",
   "name": "python3"
  },
  "language_info": {
   "codemirror_mode": {
    "name": "ipython",
    "version": 3
   },
   "file_extension": ".py",
   "mimetype": "text/x-python",
   "name": "python",
   "nbconvert_exporter": "python",
   "pygments_lexer": "ipython3",
   "version": "3.9.13"
  },
  "orig_nbformat": 4,
  "vscode": {
   "interpreter": {
    "hash": "b09ec625f77bf4fd762565a912b97636504ad6ec901eb2d0f4cf5a7de23e1ee5"
   }
  }
 },
 "nbformat": 4,
 "nbformat_minor": 2
}
